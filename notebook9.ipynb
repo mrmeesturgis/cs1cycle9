{
 "cells": [
  {
   "cell_type": "markdown",
   "id": "d8bba665",
   "metadata": {},
   "source": [
    "<img src=\"https://www.sturgischarterschool.com/wp-content/uploads/2019/06/sturgisheader_logo.png\" alt=\"sturgis\" width=\"250\" align=\"right\"/>\n",
    "\n",
    "## Computer Science 'Class Event' notebook 9\n",
    "### Sturgis Charter Public School \n",
    "\n"
   ]
  },
  {
   "cell_type": "markdown",
   "id": "681696fb",
   "metadata": {},
   "source": [
    "Student: [your name here]\n",
    "\n",
    "Collaborators: [N/A]\n",
    "\n",
    "Notes to the teacher: [N/A]"
   ]
  },
  {
   "cell_type": "markdown",
   "id": "16bf0839",
   "metadata": {},
   "source": [
    "### Learning Objectives for notebook \n",
    "* Building our first class\n",
    "* Loading csv data\n",
    "* multiple instances (objects) of a class\n",
    "* inheritance"
   ]
  },
  {
   "cell_type": "markdown",
   "id": "2df78182",
   "metadata": {},
   "source": [
    "#### Building our first class\n",
    "\n",
    "We looked at class objects, now let's build one. This will help us practice important skills down the road. As a reminder a class looks like the following. \n",
    "\n",
    "```class Nameofclass():\n",
    "    def __init__(self):\n",
    "        all code here runs\n",
    "        variables\n",
    "        calls to functions\n",
    "        \n",
    "    def otherfunction(self):\n",
    "        code for this function        \n",
    "```\n",
    "\n",
    "So we're going to build a class, we're going to load some data into our class, and we're going to then use inheritance on a subfunction. \n",
    "\n",
    "#### Loading csv data\n",
    "\n",
    "Take a look back at notebook 7. We loaded a csv file into python so that we could manipulate that file. We're going to do the same here.  \n",
    "\n",
    "```\n",
    "import csv\n",
    "with open('nameoffile.csv', newline='', encoding = 'utf8') as csvfile:\n",
    "    download = csv.reader(csvfile, delimiter=',')\n",
    "    data = []\n",
    "    for row in download:\n",
    "        data.append(row)\n",
    "```\n",
    "\n",
    "#### Multiple instances (objects) of a class\n",
    "\n",
    "Again, this is something we've discussed. We can imagine the class template `pet`, and then a single instance of that class `Snoopy`. We could then have many different objects that are all the same class. It might look something like this. \n",
    "\n",
    "`Snoopy = pet()`\n",
    "`Roo = pet()`\n",
    "`Scooby = pet()`\n",
    "\n",
    "We now have three different objects that are all the same class. We can check this if we want by doing the following.\n",
    "\n",
    "`print(type(Snoopy))` And we might get a response that looks like the following: `<class '__main__.pets'>`\n",
    "\n",
    "#### Inheritance\n",
    "\n",
    "Now let's imagine we have two different classes that are related. Imagine we have pets, but then we have different classes of pets, we might have for example, `canine, feline, or fish`.\n",
    "\n",
    "We can use inheritance to build a new class that has all the elements of a previous class. \n",
    "\n",
    "```\n",
    "class fish(pets):\n",
    "    your code here\n",
    "    No need for the __init__ function\n",
    "    You can have both __init__ (one for pets and one for fish), but take a look to see how that works.\n",
    "```\n",
    "\n",
    "You might want to read up a bit on this [w3 schools class inheretance](https://www.w3schools.com/python/python_inheritance.asp)."
   ]
  },
  {
   "cell_type": "markdown",
   "id": "f7c34a9a",
   "metadata": {},
   "source": [
    "### Question 1: Build a class\n",
    "\n",
    "Your class will be called book. It will have at least the following attributes--although you're welcome to add other attributes, although at this point our data set might not be able to provide what we want. \n",
    "\n",
    "`title`\n",
    "`genre`\n",
    "`synopsis`\n",
    "`tokenized`\n",
    "\n",
    "Your class should also have at least two functions called `add_synopsis` and `tokenize_synopsis`.\n",
    "\n",
    "Your class should accept several parameters when it's built. Take a close look at the assert check cell to see the way I call your function. "
   ]
  },
  {
   "cell_type": "code",
   "execution_count": null,
   "id": "722ed2c2",
   "metadata": {},
   "outputs": [],
   "source": [
    "#Build your class here\n",
    "\n",
    "class book():\n",
    "    pass\n",
    "    #Erase the above line and put your code here. "
   ]
  },
  {
   "cell_type": "code",
   "execution_count": null,
   "id": "5cae7d47",
   "metadata": {},
   "outputs": [],
   "source": [
    "mybook = book('Drowned Wednesday', 'fantasy')\n",
    "assert isinstance(mybook, book)\n",
    "assert mybook.title == 'Drowned Wednesday'\n",
    "assert mybook.genre == 'fantasy'\n",
    "mybook.add_synopsis(\"This is an example synopsis\")\n",
    "assert len(mybook.synopsis) == 27 \n",
    "mybook.tokenize_synopsis()\n",
    "assert len(mybook.tokenized) == 5"
   ]
  },
  {
   "cell_type": "markdown",
   "id": "be6e9c54",
   "metadata": {},
   "source": [
    "### Question 2: Loading a CSV\n",
    "Load the csv file entitled `book_genre.csv` below. "
   ]
  },
  {
   "cell_type": "code",
   "execution_count": null,
   "id": "80afb931",
   "metadata": {},
   "outputs": [],
   "source": [
    "import csv\n",
    "#put your code here"
   ]
  },
  {
   "cell_type": "code",
   "execution_count": null,
   "id": "b1fb00d1",
   "metadata": {},
   "outputs": [],
   "source": [
    "assert len(data) == 4658\n",
    "assert data[0][0] == 'index'\n",
    "assert data[150][1] == 'The Starlight Barking'\n",
    "assert data[2333][2] == 'horror'"
   ]
  },
  {
   "cell_type": "markdown",
   "id": "9cda5555",
   "metadata": {},
   "source": [
    "### Question 3: Creating multiple instances of a class\n",
    "\n",
    "Now I want you to use the class you've built to create a list of objects. That's right we can have a list of objects. :D"
   ]
  },
  {
   "cell_type": "code",
   "execution_count": null,
   "id": "645b890d",
   "metadata": {},
   "outputs": [],
   "source": [
    "#Put your code here, where you create 100 instances of the book class. \n",
    "# use data[1:101]"
   ]
  },
  {
   "cell_type": "code",
   "execution_count": null,
   "id": "6551e0b4",
   "metadata": {},
   "outputs": [],
   "source": [
    "assert books[0].title == 'Drowned Wednesday'\n",
    "assert books[5].title == 'Thendara House'\n",
    "assert books[29].genre == 'fantasy'"
   ]
  },
  {
   "cell_type": "markdown",
   "id": "750246d8",
   "metadata": {},
   "source": [
    "### Question 4: Inheritance \n",
    "\n",
    "Now let's imagine that we want to create a class called `library`. This will have a relationship between book and library. Let's think about that relationship. Let's imagine that we are a library and we are adding books to our collection. We are only going to have one library, but many books. We're less interested in having a library that has an attribute such as genre, and much more interested in having a book that might get new attributes such as location (where in the library is the book stored, checked out, or overdue. \n",
    "\n",
    "In short we want our book class to inherit qualities from the library class. \n",
    "\n",
    "There will be no assert checks, rather please create a library class, and then modify your book class as necessary in order for it to properly inherit from the library class. Then demonstrate at least 2 qualities that a book can/does have as a result of inheritance. "
   ]
  },
  {
   "cell_type": "code",
   "execution_count": null,
   "id": "4ea2d6e9",
   "metadata": {},
   "outputs": [],
   "source": [
    "#Write your code here. Copy over your book class if necessary for modification. \n",
    "class library():\n",
    "    pass"
   ]
  },
  {
   "cell_type": "markdown",
   "id": "0deb6646",
   "metadata": {},
   "source": [
    "### Question 5: Classification [HL ONLY]\n",
    "\n",
    "The dataset has all these synopsis for these books, and it also has genre `labels`. The original intent of the dataset was to be able to create a classifier, where we could get the computer to figure out what genre it is based on the synopsis. \n",
    "\n",
    "Either in code or in a handwritten explanation (at least 3 paragraphs), explain how you might algorithmically create code that would classify a book that had a synopsis, but doesn't have a genre label. \n",
    "\n",
    "For those of you who are doing code, you will want to split the data so that you have a training set (synopsis and labels) and a test data (synopsis without labels).\n",
    "\n",
    "Again, coding optional. "
   ]
  },
  {
   "cell_type": "markdown",
   "id": "7302e858",
   "metadata": {},
   "source": [
    "### Question 6: Classification part 2 [HL ONLY]\n",
    "\n",
    "Imagine that I wanted to create a new variable in my book class entitled `keywords`. How could I create an algorithm that searched through my synopsis (or perhaps first through all the synopsis) in order to find the best keywords. \n",
    "\n",
    "Code, or explain how you might go about coding this. "
   ]
  },
  {
   "cell_type": "code",
   "execution_count": null,
   "id": "5f30ef91",
   "metadata": {},
   "outputs": [],
   "source": []
  }
 ],
 "metadata": {
  "kernelspec": {
   "display_name": "Python 3 (ipykernel)",
   "language": "python",
   "name": "python3"
  },
  "language_info": {
   "codemirror_mode": {
    "name": "ipython",
    "version": 3
   },
   "file_extension": ".py",
   "mimetype": "text/x-python",
   "name": "python",
   "nbconvert_exporter": "python",
   "pygments_lexer": "ipython3",
   "version": "3.9.7"
  }
 },
 "nbformat": 4,
 "nbformat_minor": 5
}
